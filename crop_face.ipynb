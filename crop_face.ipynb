{
  "nbformat": 4,
  "nbformat_minor": 0,
  "metadata": {
    "colab": {
      "provenance": []
    },
    "kernelspec": {
      "name": "python3",
      "display_name": "Python 3"
    },
    "language_info": {
      "name": "python"
    }
  },
  "cells": [
    {
      "cell_type": "code",
      "source": [
        "import cv2\n",
        "import sys\n",
        "import os\n",
        "import glob\n",
        "from tqdm import tqdm\n",
        "from google.colab.patches import cv2_imshow"
      ],
      "metadata": {
        "id": "2e1N6LFBsanm"
      },
      "execution_count": 1,
      "outputs": []
    },
    {
      "cell_type": "code",
      "source": [
        "from google.colab import drive\n",
        "drive.mount('/content/drive')"
      ],
      "metadata": {
        "colab": {
          "base_uri": "https://localhost:8080/"
        },
        "id": "9W43Z0RYseXw",
        "outputId": "e928c231-64b5-48d4-fd39-cfe23320dda9"
      },
      "execution_count": 2,
      "outputs": [
        {
          "output_type": "stream",
          "name": "stdout",
          "text": [
            "Mounted at /content/drive\n"
          ]
        }
      ]
    },
    {
      "cell_type": "code",
      "source": [
        "d = './drive/MyDrive/test_dl_dataset'\n",
        "\n",
        "lst=[]\n",
        "for a in os.listdir(d):\n",
        "  if os.path.isdir(os.path.join(d,a)):\n",
        "    lst.append(os.path.join(d, a))\n",
        "\n",
        "lst\n",
        "lst = ['./drive/MyDrive/test_dl_dataset/Noah Centineo',\n",
        " './drive/MyDrive/test_dl_dataset/Ryan Reynolds',\n",
        " './drive/MyDrive/test_dl_dataset/Adam Sandler']"
      ],
      "metadata": {
        "id": "BNvr2Ly0sgy3"
      },
      "execution_count": 19,
      "outputs": []
    },
    {
      "cell_type": "code",
      "execution_count": 33,
      "metadata": {
        "colab": {
          "base_uri": "https://localhost:8080/"
        },
        "id": "KtVjyOYQsHXu",
        "outputId": "3692f326-a41c-46fd-f0f8-da6b059981f0"
      },
      "outputs": [
        {
          "output_type": "stream",
          "name": "stderr",
          "text": [
            "\r  0%|          | 0/1 [00:00<?, ?it/s]"
          ]
        },
        {
          "output_type": "stream",
          "name": "stdout",
          "text": [
            "path ./drive/MyDrive/test_dl_dataset/Noah Centineo//side/*.jpg\n",
            "\n",
            "faces ()\n",
            "\n"
          ]
        },
        {
          "output_type": "stream",
          "name": "stderr",
          "text": [
            "100%|██████████| 1/1 [00:00<00:00,  2.45it/s]"
          ]
        },
        {
          "output_type": "stream",
          "name": "stdout",
          "text": [
            "faces ()\n",
            "\n",
            "faces ()\n",
            "\n",
            "faces ()\n"
          ]
        },
        {
          "output_type": "stream",
          "name": "stderr",
          "text": [
            "\n"
          ]
        }
      ],
      "source": [
        "# new_dir = 'croped_dl_dataset/'\n",
        "new_dir = './drive/MyDrive/test_dl_dataset/'\n",
        "\n",
        "for path in tqdm(['./drive/MyDrive/test_dl_dataset/Noah Centineo/']):\n",
        "  #for the front facing piictures v\n",
        "  # pathl = path +\"/*.jpg\"\n",
        "  \n",
        "  #for the pictures in the side folder v\n",
        "  pathl = path +\"/side/*.jpg\"\n",
        "\n",
        "  print('path', pathl)\n",
        "  i=1 #comment this during front facing pictures\n",
        "  for file in glob.glob(pathl):\n",
        "    #for front facing v \n",
        "    # folder = file.split('/')[-2]\n",
        "    folder = file.split ('/')[-3]\n",
        "    print(folder)\n",
        "    image = cv2.imread(file)\n",
        "    i+=1\n",
        "\n",
        "    gray = cv2.cvtColor(image, cv2.COLOR_BGR2GRAY)\n",
        "    flipped = cv2.flip(gray, 1)\n",
        "\n",
        "    face_cascade = cv2.CascadeClassifier(cv2.data.haarcascades + 'haarcascade_frontalface_default.xml')\n",
        "\n",
        "    faces = face_cascade.detectMultiScale(gray, 1.3, 5)\n",
        "    print('faces',faces)\n",
        "    for (x, y, w, h) in faces:\n",
        "      \n",
        "      start_point = (x, y)\n",
        "      end_point = (x + w, y + h)\n",
        "      color = (0, 0, 255)\n",
        "      thickness = 2\n",
        "\n",
        "      cv2.rectangle(image, start_point, end_point, color, thickness)\n",
        "      roi_color = image[y:y + h, x:x + w]\n",
        "      print(\" [INFO] Object found. Saving locally.\")\n",
        "\n",
        "      #for side facing\n",
        "      npath = new_dir+folder+\"/side/\"+folder+\"_0\"+str(i)+\".jpg\"\n",
        "      #for front facing \n",
        "      # npath = new_dir + folder + \"/\" + folder + \"_01.jpg\"\n",
        "\n",
        "      print('n',npath)\n",
        "      cv2.imwrite(npath, roi_color)\n",
        "      # cv2_imshow(roi_color)\n",
        "\n"
      ]
    }
  ]
}